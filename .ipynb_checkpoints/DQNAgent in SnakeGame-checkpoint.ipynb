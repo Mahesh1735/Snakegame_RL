{
 "cells": [
  {
   "cell_type": "code",
   "execution_count": null,
   "metadata": {},
   "outputs": [],
   "source": [
    "from collections import deque\n",
    "from DQNAgent import DQNAgent\n",
    "from snakegame import SnakeEnv\n",
    "import numpy as np"
   ]
  },
  {
   "cell_type": "code",
   "execution_count": null,
   "metadata": {
    "collapsed": true
   },
   "outputs": [],
   "source": [
    "env = SnakeEnv(10,15)"
   ]
  },
  {
   "cell_type": "code",
   "execution_count": null,
   "metadata": {},
   "outputs": [],
   "source": [
    "env.state"
   ]
  },
  {
   "cell_type": "code",
   "execution_count": null,
   "metadata": {},
   "outputs": [],
   "source": [
    "agent = DQNAgent()"
   ]
  },
  {
   "cell_type": "code",
   "execution_count": null,
   "metadata": {},
   "outputs": [],
   "source": [
    "episodes = 10000\n",
    "for e in range(episodes):\n",
    "        state = env.reset()\n",
    "        for time_t in range(500):\n",
    "            action = agent.act(env.state.reshape(1, 1, 10, 15))\n",
    "            next_state, reward, done = env.step(action)\n",
    "            # Remember the previous state, action, reward, and done\n",
    "            agent.remember(state, action, reward, next_state, done)\n",
    "            # make next_state the new current state for the next frame.\n",
    "            state = next_state\n",
    "            if e%100 == 0:\n",
    "                print(env.state)\n",
    "            # done becomes True when the game ends\n",
    "            if env.done:\n",
    "                # print the score and break out of the loop\n",
    "                print(\"episode: {}/{}, score: {}, time: {}\"\n",
    "                      .format(e, episodes, len(env.snake)-6, time_t))\n",
    "                break\n",
    "        # train the agent with the experience of the episode\n",
    "        if e>20:\n",
    "            agent.replay(32)"
   ]
  },
  {
   "cell_type": "code",
   "execution_count": null,
   "metadata": {
    "collapsed": true
   },
   "outputs": [],
   "source": []
  }
 ],
 "metadata": {
  "kernelspec": {
   "display_name": "Python 3",
   "language": "python",
   "name": "python3"
  },
  "language_info": {
   "codemirror_mode": {
    "name": "ipython",
    "version": 3
   },
   "file_extension": ".py",
   "mimetype": "text/x-python",
   "name": "python",
   "nbconvert_exporter": "python",
   "pygments_lexer": "ipython3",
   "version": "3.6.3"
  }
 },
 "nbformat": 4,
 "nbformat_minor": 2
}
