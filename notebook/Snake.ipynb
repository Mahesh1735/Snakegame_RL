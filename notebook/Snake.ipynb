{
 "cells": [
  {
   "cell_type": "code",
   "execution_count": 1,
   "metadata": {
    "collapsed": true
   },
   "outputs": [],
   "source": [
    "import numpy as np\n",
    "from random import randint\n",
    "from collections import deque"
   ]
  },
  {
   "cell_type": "code",
   "execution_count": 316,
   "metadata": {
    "collapsed": true
   },
   "outputs": [],
   "source": [
    "class SnakeEnv:\n",
    "    \n",
    "    def __init__(self, x, y):\n",
    "        self.x = x\n",
    "        self.y = y\n",
    "        self.state = np.zeros((x, y), dtype=int)\n",
    "        self.reward_range = (0, 1)\n",
    "        self.snake = deque([[5,5],[5,6],[5,7],[5,8],[5,9],[5,10]])\n",
    "        self.score = 0\n",
    "        self.gameover = 0\n",
    "        self.reset()\n",
    "        self.food()\n",
    "        \n",
    "    def food(self):\n",
    "        a = randint(0,self.x-1)\n",
    "        b = randint(0,self.y-1)\n",
    "        if self.state[a][b] == 0:\n",
    "            self.state[a][b] = 2\n",
    "        else:\n",
    "            self.food()\n",
    "    \n",
    "    def reset(self):\n",
    "        self.state = np.zeros((self.x, self.y), dtype=int)\n",
    "        self.snake = deque([[5,5],[5,6],[5,7],[5,8],[5,9],[5,10]])\n",
    "        for i in self.snake:\n",
    "            self.state[i[0]][i[1]] = 1\n",
    "        self.state[0] = 3\n",
    "        self.state[self.x - 1] = 3\n",
    "        for i in range(self.x):\n",
    "            self.state[i][0] = 3\n",
    "            self.state[i][self.y - 1] = 3\n",
    "        self.gameover = 0\n",
    "            \n",
    "    def render(self):\n",
    "        for i in self.snake:\n",
    "            self.state[i[0]][i[1]] = 1\n",
    "    \n",
    "    def move(self, action):\n",
    "        state = self.state\n",
    "        snake = self.snake\n",
    "        head = snake[0]\n",
    "        self.gameover = 0\n",
    "        if action == 0:\n",
    "            # collision with wall\n",
    "            if state[head[0]][head[1]-1] == 3:\n",
    "                self.gameover = 1\n",
    "            # food\n",
    "            if state[head[0]][head[1]-1] == 2:\n",
    "                snake.appendleft([head[0], head[1]-1])\n",
    "                self.food()\n",
    "            # collision with self\n",
    "            if state[head[0]][head[1]-1] == 1:\n",
    "                self.gameover = 1\n",
    "            # no obstruction\n",
    "            if state[head[0]][head[1]-1] == 0:\n",
    "                snake.appendleft([head[0], head[1]-1])\n",
    "                state[snake[-1][0]][snake[-1][1]] = 0\n",
    "                snake.pop()\n",
    "    \n",
    "        # Up\n",
    "        if action == 1:\n",
    "            # collision with wall\n",
    "            if state[head[0]-1][head[1]] == 3:\n",
    "                self.gameover = 1\n",
    "            # food\n",
    "            if state[head[0]-1][head[1]] == 2:\n",
    "                snake.appendleft([head[0]-1, head[1]])\n",
    "                self.food()\n",
    "            # collision with self\n",
    "            if state[head[0]-1][head[1]] == 1:\n",
    "                self.gameover = 1\n",
    "            # no obstruction\n",
    "            if state[head[0]-1][head[1]] == 0:\n",
    "                snake.appendleft([head[0]-1, head[1]])\n",
    "                state[snake[-1][0]][snake[-1][1]] = 0\n",
    "                snake.pop()\n",
    "\n",
    "        # Right\n",
    "        if action == 2:\n",
    "            # collision with wall\n",
    "            if state[head[0]][head[1]+1] == 3:\n",
    "                self.gameover = 1\n",
    "            # food\n",
    "            if state[head[0]][head[1]+1] == 2:\n",
    "                snake.appendleft([head[0], head[1]+1])\n",
    "                self.food()\n",
    "            # collision with self\n",
    "            if state[head[0]][head[1]+1] == 1:\n",
    "                self.gameover = 1\n",
    "            # no obstruction\n",
    "            if state[head[0]][head[1]+1] == 0:\n",
    "                snake.appendleft([head[0], head[1]+1])\n",
    "                state[snake[-1][0]][snake[-1][1]] = 0\n",
    "                snake.pop()\n",
    "\n",
    "        # Down\n",
    "        if action == 3:\n",
    "            # collision with wall\n",
    "            if state[head[0]+1][head[1]] == 3:\n",
    "                self.gameover = 1\n",
    "            # food\n",
    "            if state[head[0]+1][head[1]] == 2:\n",
    "                snake.appendleft([head[0]+1, head[1]])\n",
    "                self.food()\n",
    "            # collision with self\n",
    "            if state[head[0]+1][head[1]] == 1:\n",
    "                self.gameover = 1\n",
    "            # no obstruction\n",
    "            if state[head[0]+1][head[1]] == 0:\n",
    "                snake.appendleft([head[0]+1, head[1]])\n",
    "                state[snake[-1][0]][snake[-1][1]] = 0\n",
    "                snake.pop()\n",
    "        self.render()\n",
    "        self.score = len(snake) - 6\n",
    "        return state, self.score, self.gameover"
   ]
  },
  {
   "cell_type": "code",
   "execution_count": 317,
   "metadata": {},
   "outputs": [],
   "source": [
    "snek = SnakeEnv(10,15)"
   ]
  },
  {
   "cell_type": "code",
   "execution_count": 262,
   "metadata": {},
   "outputs": [
    {
     "data": {
      "text/plain": [
       "array([[3, 3, 3, 3, 3, 3, 3, 3, 3, 3, 3, 3, 3, 3, 3],\n",
       "       [3, 0, 0, 0, 0, 0, 0, 0, 0, 0, 0, 0, 0, 0, 3],\n",
       "       [3, 0, 0, 0, 0, 0, 0, 0, 0, 0, 0, 0, 0, 0, 3],\n",
       "       [3, 0, 0, 0, 0, 0, 0, 0, 0, 0, 0, 0, 0, 0, 3],\n",
       "       [3, 0, 0, 0, 0, 0, 0, 0, 0, 0, 0, 2, 0, 0, 3],\n",
       "       [3, 0, 0, 0, 0, 1, 1, 1, 1, 1, 1, 0, 0, 0, 3],\n",
       "       [3, 0, 0, 0, 0, 0, 0, 0, 0, 0, 0, 0, 0, 0, 3],\n",
       "       [3, 0, 0, 0, 0, 0, 0, 0, 0, 0, 0, 0, 0, 0, 3],\n",
       "       [3, 0, 0, 0, 0, 0, 0, 0, 0, 0, 0, 0, 0, 0, 3],\n",
       "       [3, 3, 3, 3, 3, 3, 3, 3, 3, 3, 3, 3, 3, 3, 3]])"
      ]
     },
     "execution_count": 262,
     "metadata": {},
     "output_type": "execute_result"
    }
   ],
   "source": [
    "snek.board"
   ]
  },
  {
   "cell_type": "code",
   "execution_count": 273,
   "metadata": {},
   "outputs": [
    {
     "data": {
      "text/plain": [
       "(array([[3, 3, 3, 3, 3, 3, 3, 3, 3, 3, 3, 3, 3, 3, 3],\n",
       "        [3, 0, 0, 0, 0, 0, 0, 0, 0, 0, 0, 0, 0, 0, 3],\n",
       "        [3, 0, 0, 0, 0, 0, 0, 0, 0, 0, 0, 0, 0, 0, 3],\n",
       "        [3, 0, 0, 0, 0, 0, 0, 0, 0, 0, 0, 0, 0, 0, 3],\n",
       "        [3, 0, 0, 0, 0, 0, 0, 0, 1, 1, 1, 1, 1, 1, 3],\n",
       "        [3, 0, 0, 0, 0, 0, 0, 0, 0, 0, 0, 0, 0, 1, 3],\n",
       "        [3, 0, 0, 0, 2, 0, 0, 0, 0, 0, 0, 0, 0, 0, 3],\n",
       "        [3, 0, 0, 0, 0, 0, 0, 0, 0, 0, 0, 0, 0, 0, 3],\n",
       "        [3, 0, 0, 0, 0, 0, 0, 0, 0, 0, 0, 0, 0, 0, 3],\n",
       "        [3, 3, 3, 3, 3, 3, 3, 3, 3, 3, 3, 3, 3, 3, 3]]), 1, 0)"
      ]
     },
     "execution_count": 273,
     "metadata": {},
     "output_type": "execute_result"
    }
   ],
   "source": [
    "snek.move(3)"
   ]
  },
  {
   "cell_type": "code",
   "execution_count": 235,
   "metadata": {},
   "outputs": [
    {
     "data": {
      "text/plain": [
       "1"
      ]
     },
     "execution_count": 235,
     "metadata": {},
     "output_type": "execute_result"
    }
   ],
   "source": [
    "snek.gameover"
   ]
  },
  {
   "cell_type": "code",
   "execution_count": null,
   "metadata": {},
   "outputs": [],
   "source": [
    "import keras"
   ]
  },
  {
   "cell_type": "code",
   "execution_count": null,
   "metadata": {
    "collapsed": true
   },
   "outputs": [],
   "source": [
    "from keras.models import Sequential"
   ]
  },
  {
   "cell_type": "code",
   "execution_count": 169,
   "metadata": {},
   "outputs": [],
   "source": [
    "snek.reset()"
   ]
  },
  {
   "cell_type": "code",
   "execution_count": 182,
   "metadata": {},
   "outputs": [],
   "source": [
    "snek.board[2][0] = 3"
   ]
  },
  {
   "cell_type": "code",
   "execution_count": 280,
   "metadata": {},
   "outputs": [
    {
     "data": {
      "text/plain": [
       "array([[3, 3, 3, 3, 3, 3, 3, 3, 3, 3, 3, 3, 3, 3, 3],\n",
       "       [3, 0, 0, 0, 0, 0, 0, 0, 0, 0, 0, 0, 0, 0, 3],\n",
       "       [3, 0, 0, 0, 0, 0, 0, 0, 0, 0, 0, 0, 0, 0, 3],\n",
       "       [3, 0, 0, 0, 0, 0, 0, 0, 0, 0, 0, 0, 0, 0, 3],\n",
       "       [3, 0, 0, 0, 0, 0, 0, 0, 0, 0, 0, 0, 0, 0, 3],\n",
       "       [3, 0, 0, 0, 0, 1, 1, 1, 1, 1, 1, 0, 0, 0, 3],\n",
       "       [3, 0, 0, 0, 0, 0, 0, 0, 0, 0, 0, 0, 0, 0, 3],\n",
       "       [3, 0, 0, 0, 0, 0, 0, 0, 0, 0, 0, 0, 0, 0, 3],\n",
       "       [3, 0, 0, 0, 0, 0, 0, 0, 0, 0, 0, 0, 0, 0, 3],\n",
       "       [3, 3, 3, 3, 3, 3, 3, 3, 3, 3, 3, 3, 3, 3, 3]])"
      ]
     },
     "execution_count": 280,
     "metadata": {},
     "output_type": "execute_result"
    }
   ],
   "source": [
    "snek.board"
   ]
  },
  {
   "cell_type": "code",
   "execution_count": 279,
   "metadata": {},
   "outputs": [],
   "source": [
    "snek.reset()"
   ]
  },
  {
   "cell_type": "code",
   "execution_count": 346,
   "metadata": {},
   "outputs": [
    {
     "name": "stdout",
     "output_type": "stream",
     "text": [
      "5.345539093017578\n"
     ]
    }
   ],
   "source": [
    "import time\n",
    "j=0\n",
    "t = time.time()\n",
    "for i in range(100000):\n",
    "    #j=0\n",
    "    snek.reset()\n",
    "    while 1:\n",
    "        snek.move(randint(0,4))\n",
    "        j+=1\n",
    "        if snek.gameover == 1:\n",
    "            break\n",
    "print (time.time() - t)"
   ]
  },
  {
   "cell_type": "code",
   "execution_count": 335,
   "metadata": {},
   "outputs": [
    {
     "data": {
      "text/plain": [
       "1"
      ]
     },
     "execution_count": 335,
     "metadata": {},
     "output_type": "execute_result"
    }
   ],
   "source": [
    "snek.reset()\n",
    "snek.move(randint(0,4))\n",
    "snek.gameover"
   ]
  },
  {
   "cell_type": "code",
   "execution_count": 322,
   "metadata": {},
   "outputs": [],
   "source": [
    "snek.reset()"
   ]
  },
  {
   "cell_type": "code",
   "execution_count": 323,
   "metadata": {},
   "outputs": [
    {
     "data": {
      "text/plain": [
       "0"
      ]
     },
     "execution_count": 323,
     "metadata": {},
     "output_type": "execute_result"
    }
   ],
   "source": [
    "snek.gameover"
   ]
  },
  {
   "cell_type": "code",
   "execution_count": null,
   "metadata": {
    "collapsed": true
   },
   "outputs": [],
   "source": []
  }
 ],
 "metadata": {
  "kernelspec": {
   "display_name": "Python 3",
   "language": "python",
   "name": "python3"
  },
  "language_info": {
   "codemirror_mode": {
    "name": "ipython",
    "version": 3
   },
   "file_extension": ".py",
   "mimetype": "text/x-python",
   "name": "python",
   "nbconvert_exporter": "python",
   "pygments_lexer": "ipython3",
   "version": "3.6.3"
  }
 },
 "nbformat": 4,
 "nbformat_minor": 2
}
